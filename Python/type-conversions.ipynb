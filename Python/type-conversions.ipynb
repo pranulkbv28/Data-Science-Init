{
 "cells": [
  {
   "cell_type": "markdown",
   "id": "658f36af-c5b7-49c1-acc0-c55a756ca489",
   "metadata": {},
   "source": [
    "# Type Conversions in Python"
   ]
  },
  {
   "cell_type": "markdown",
   "id": "6308d353-41a9-493a-8732-c0bd0a4a1840",
   "metadata": {},
   "source": [
    "- Implicit Type conversion (Automatic Conversion)\n",
    "- Explicit Type Conversion (Casting)"
   ]
  },
  {
   "cell_type": "markdown",
   "id": "e218ec31-d2ee-487a-9714-1153fc3f7d1e",
   "metadata": {},
   "source": [
    "## Implicit Conversion"
   ]
  },
  {
   "cell_type": "code",
   "execution_count": null,
   "id": "a802cc6b-3644-4af5-82fb-733379832115",
   "metadata": {},
   "outputs": [],
   "source": [
    "x = 10\n",
    "y = 26.5\n",
    "z = \"ABC\"\n",
    "\n",
    "print(type(x))\n",
    "print(type(y))\n",
    "print(type(z))\n",
    "\n",
    "# here, the types of x, y and z are automatically assigned by python"
   ]
  },
  {
   "cell_type": "markdown",
   "id": "dbe415ca-ebe9-4cc2-980d-58e01623e138",
   "metadata": {},
   "source": [
    "## Explicit Conversion"
   ]
  },
  {
   "cell_type": "code",
   "execution_count": null,
   "id": "9d2573ae-470c-4b9f-9cce-8860dbb2a36b",
   "metadata": {},
   "outputs": [],
   "source": [
    "float(x)\n",
    "int(y)\n",
    "\n",
    "print(type(x))\n",
    "print(type(y))"
   ]
  }
 ],
 "metadata": {
  "kernelspec": {
   "display_name": "Python 3 (ipykernel)",
   "language": "python",
   "name": "python3"
  },
  "language_info": {
   "codemirror_mode": {
    "name": "ipython",
    "version": 3
   },
   "file_extension": ".py",
   "mimetype": "text/x-python",
   "name": "python",
   "nbconvert_exporter": "python",
   "pygments_lexer": "ipython3",
   "version": "3.11.10"
  }
 },
 "nbformat": 4,
 "nbformat_minor": 5
}
