{
 "cells": [
  {
   "cell_type": "code",
   "execution_count": null,
   "id": "22dcf8fc-90be-4d24-91da-ecacc64e6a6c",
   "metadata": {
    "editable": true,
    "slideshow": {
     "slide_type": ""
    },
    "tags": []
   },
   "outputs": [],
   "source": [
    "print(\"Hello World\")"
   ]
  },
  {
   "cell_type": "code",
   "execution_count": null,
   "id": "b4d1ef8f-a6f1-4bb5-9834-8563e37603d4",
   "metadata": {},
   "outputs": [],
   "source": [
    "num = 3\n",
    "print(num)"
   ]
  },
  {
   "cell_type": "code",
   "execution_count": null,
   "id": "60aa6582-fec3-4155-a0df-5b0dd2235999",
   "metadata": {},
   "outputs": [],
   "source": [
    "3 + 2"
   ]
  }
 ],
 "metadata": {
  "kernelspec": {
   "display_name": "Python 3 (ipykernel)",
   "language": "python",
   "name": "python3"
  },
  "language_info": {
   "codemirror_mode": {
    "name": "ipython",
    "version": 3
   },
   "file_extension": ".py",
   "mimetype": "text/x-python",
   "name": "python",
   "nbconvert_exporter": "python",
   "pygments_lexer": "ipython3",
   "version": "3.12.5"
  }
 },
 "nbformat": 4,
 "nbformat_minor": 5
}
