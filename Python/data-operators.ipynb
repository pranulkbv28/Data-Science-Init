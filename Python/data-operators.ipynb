{
 "cells": [
  {
   "cell_type": "markdown",
   "id": "f45c8ff0-9b97-46b8-a8c6-13efab4b8dc5",
   "metadata": {},
   "source": [
    "# Operators in Python"
   ]
  },
  {
   "cell_type": "markdown",
   "id": "ee4279a3-acb5-47d2-a738-ac8abc112c87",
   "metadata": {},
   "source": [
    "## Arithmetic Operators"
   ]
  },
  {
   "cell_type": "code",
   "execution_count": null,
   "id": "8240ba4d-7c98-4570-a3f1-23e8cadac4aa",
   "metadata": {},
   "outputs": [],
   "source": [
    "a = 2 # assigning operators\n",
    "b = 3\n",
    "\n",
    "print(a + b) # addition\n",
    "print(a - b) # subtraction\n",
    "print(a * b) # multiplication\n",
    "print(a / b) # division\n",
    "print(a % b) # modulus\n",
    "print(a // b) # floor division\n",
    "print(a ** b) # exponentiation"
   ]
  },
  {
   "cell_type": "markdown",
   "id": "e6d7b432-65b9-4bdc-98d1-cd5b007f0cbf",
   "metadata": {},
   "source": [
    "## Comparison Operators"
   ]
  },
  {
   "cell_type": "code",
   "execution_count": null,
   "id": "8d1fee6a-1ec4-4254-ae18-d430b63002e6",
   "metadata": {},
   "outputs": [],
   "source": [
    "print(a > b) # greater than\n",
    "print(a < b) # lesser than\n",
    "print(a == b) # expual to\n",
    "print(a != b) # not equal to, it can also be written as\n",
    "# print(a <> b)\n",
    "print(a >= b) # greater than or equal to\n",
    "print(a <= b) # lesser than or equal to"
   ]
  },
  {
   "cell_type": "markdown",
   "id": "550ede69-df81-47e8-a4d9-90e8f0677295",
   "metadata": {},
   "source": [
    "## Assignment Operators"
   ]
  },
  {
   "cell_type": "code",
   "execution_count": null,
   "id": "51d9e7a3-cd4d-4cbc-a362-bdf6afaa4524",
   "metadata": {},
   "outputs": [],
   "source": [
    "a = b  # assigner\n",
    "\n",
    "a += b  # addition assigner, this can be read as -> a = a + b\n",
    "print(a)\n",
    "\n",
    "a -= b  # subtraction assigner, this can be read as -> a = a - b\n",
    "print(a)\n",
    "\n",
    "a *= b  # multiplication assigner, this can be read as -> a = a * b\n",
    "print(a)\n",
    "\n",
    "a /= b  # division assigner, this can be read as -> a = a / b\n",
    "print(a)\n",
    "\n",
    "a %= b  # modulus assigner, this can be read as -> a = a % b\n",
    "print(a)\n",
    "\n",
    "a **= b  # exponent assigner, this can be read as -> a = a ** b\n",
    "print(a)\n",
    "\n",
    "a //= b  # floor division assigner, this can be read as -> a = a // b\n",
    "print(a)"
   ]
  },
  {
   "cell_type": "markdown",
   "id": "267e5c32-ebe0-4a96-8713-ae9357d94f60",
   "metadata": {},
   "source": [
    "## Logical Operators"
   ]
  },
  {
   "cell_type": "markdown",
   "id": "222cf04b-6c7d-4789-8f42-1c89b48d1efb",
   "metadata": {},
   "source": [
    "- AND\n",
    "- OR\n",
    "- NOT\n",
    "\n",
    "These return a boolean value"
   ]
  },
  {
   "cell_type": "code",
   "execution_count": null,
   "id": "df166297-da10-41d0-b115-e89dd781e446",
   "metadata": {},
   "outputs": [],
   "source": [
    "x = 100\n",
    "y = 20\n",
    "z = 10\n",
    "\n",
    "print((x>y) and (y<z))\n",
    "print((x>y) or (y<z))\n",
    "print(not(x>y))"
   ]
  }
 ],
 "metadata": {
  "kernelspec": {
   "display_name": "Python 3 (ipykernel)",
   "language": "python",
   "name": "python3"
  },
  "language_info": {
   "name": ""
  }
 },
 "nbformat": 4,
 "nbformat_minor": 5
}
