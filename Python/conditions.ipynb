{
 "cells": [
  {
   "cell_type": "markdown",
   "id": "18302fd3-5d93-43e8-9c9b-419013bcbd8b",
   "metadata": {},
   "source": [
    "# Conditions in Python"
   ]
  },
  {
   "cell_type": "markdown",
   "id": "ca6e0ed9-08b2-433f-bfc3-80bd24471fe7",
   "metadata": {},
   "source": [
    "## if condition"
   ]
  },
  {
   "cell_type": "code",
   "execution_count": null,
   "id": "fc5d0350-c5cb-466f-9502-2a36be5c12ae",
   "metadata": {},
   "outputs": [],
   "source": [
    "a = 10\n",
    "b = 5\n",
    "\n",
    "if(a ==b):\n",
    "    print(\"Equal\")\n",
    "elif(a > b):\n",
    "    print(\"a is greater\")\n",
    "elif(b > a):\n",
    "    print(\"b os greater\")\n",
    "else:\n",
    "    print(\"Invalid\")"
   ]
  },
  {
   "cell_type": "markdown",
   "id": "5538a76a-be0c-4175-99de-97a0081e1cd7",
   "metadata": {},
   "source": [
    "### Nested If condition"
   ]
  },
  {
   "cell_type": "code",
   "execution_count": null,
   "id": "47945f24-1006-421d-9235-aadc668cd3a1",
   "metadata": {},
   "outputs": [],
   "source": [
    "age = 20\n",
    "citizen = True\n",
    "\n",
    "if age >= 18:\n",
    "    if citizen:\n",
    "        print(\"You are eligible to vote\")\n",
    "    else:\n",
    "        print(\"You are not a citizen, you cannot vote\")\n",
    "else:\n",
    "    print(\"You are not old enough to vote\")"
   ]
  },
  {
   "cell_type": "markdown",
   "id": "ad3379fa-05d2-4ea4-bd45-3676951a55a2",
   "metadata": {},
   "source": [
    "### Logical Operators in If conditions"
   ]
  },
  {
   "cell_type": "code",
   "execution_count": null,
   "id": "e657e7aa-f9a1-42af-ada2-3ba1aba8eb50",
   "metadata": {},
   "outputs": [],
   "source": [
    "age = 15\n",
    "citizen = True\n",
    "has_voter_id = False\n",
    "\n",
    "if age >= 18 and citizen:\n",
    "    print(\"You are eligible to vote\")\n",
    "\n",
    "if age < 18 or not citizen:\n",
    "    print(\"You are not eligible to vote\")\n",
    "\n",
    "if not has_voter_id:\n",
    "    print(\"You need a voter id to vote\")"
   ]
  }
 ],
 "metadata": {
  "kernelspec": {
   "display_name": "Python 3 (ipykernel)",
   "language": "python",
   "name": "python3"
  },
  "language_info": {
   "codemirror_mode": {
    "name": "ipython",
    "version": 3
   },
   "file_extension": ".py",
   "mimetype": "text/x-python",
   "name": "python",
   "nbconvert_exporter": "python",
   "pygments_lexer": "ipython3",
   "version": "3.12.5"
  }
 },
 "nbformat": 4,
 "nbformat_minor": 5
}
