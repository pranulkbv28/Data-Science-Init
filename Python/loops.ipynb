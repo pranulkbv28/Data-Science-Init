{
 "cells": [
  {
   "cell_type": "markdown",
   "id": "f79f58bb-a9d8-4ef2-9ffb-1b1c975a647f",
   "metadata": {},
   "source": [
    "# Loops in Python"
   ]
  },
  {
   "cell_type": "markdown",
   "id": "32bd7fd3-59ae-49b1-96af-cfd20478359b",
   "metadata": {},
   "source": [
    "## While loop\n",
    "\n",
    "### Syntax\n",
    "\n",
    "```python\n",
    "while(condition):\n",
    "    # code block to execute\n",
    "```"
   ]
  },
  {
   "cell_type": "code",
   "execution_count": null,
   "id": "602476a0-180f-49e0-8f01-1eb5921ffa0d",
   "metadata": {},
   "outputs": [],
   "source": [
    "count = 1\n",
    "\n",
    "while count <= 5:\n",
    "    print(count)\n",
    "    count+=1"
   ]
  }
 ],
 "metadata": {
  "kernelspec": {
   "display_name": "Python 3 (ipykernel)",
   "language": "python",
   "name": "python3"
  },
  "language_info": {
   "codemirror_mode": {
    "name": "ipython",
    "version": 3
   },
   "file_extension": ".py",
   "mimetype": "text/x-python",
   "name": "python",
   "nbconvert_exporter": "python",
   "pygments_lexer": "ipython3",
   "version": "3.12.5"
  }
 },
 "nbformat": 4,
 "nbformat_minor": 5
}
